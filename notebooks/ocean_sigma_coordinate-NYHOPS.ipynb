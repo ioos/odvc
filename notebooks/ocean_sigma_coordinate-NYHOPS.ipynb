{
 "cells": [
  {
   "cell_type": "code",
   "execution_count": 1,
   "metadata": {
    "collapsed": false
   },
   "outputs": [],
   "source": [
    "url = (\"http://colossus.dl.stevens-tech.edu:8080/thredds/dodsC/\"\n",
    "       \"latest/Bight_gcmplt.nc\")"
   ]
  },
  {
   "cell_type": "code",
   "execution_count": 2,
   "metadata": {
    "collapsed": false
   },
   "outputs": [
    {
     "data": {
      "text/plain": [
       "[<type 'netCDF4._netCDF4.Variable'>\n",
       " float32 sigma(sigma)\n",
       "     long_name: stretched vertical coordinate levels\n",
       "     units: 1\n",
       "     positive: up\n",
       "     standard_name: ocean_sigma_coordinate\n",
       "     formula_terms: sigma: sigma eta: elev depth: depth\n",
       "     axis: Z\n",
       " unlimited dimensions: \n",
       " current shape = (11,)\n",
       " filling off]"
      ]
     },
     "execution_count": 2,
     "metadata": {},
     "output_type": "execute_result"
    }
   ],
   "source": [
    "from netCDF4 import Dataset\n",
    "\n",
    "from odvc import get_formula_terms_variables\n",
    "\n",
    "\n",
    "nc = Dataset(url)\n",
    "\n",
    "var = get_formula_terms_variables(nc)\n",
    "\n",
    "var"
   ]
  },
  {
   "cell_type": "code",
   "execution_count": 3,
   "metadata": {
    "collapsed": false
   },
   "outputs": [
    {
     "data": {
      "text/plain": [
       "OrderedDict([(u'sigma', u'sigma'), (u'eta', u'elev'), (u'depth', u'depth')])"
      ]
     },
     "execution_count": 3,
     "metadata": {},
     "output_type": "execute_result"
    }
   ],
   "source": [
    "from odvc import get_formula_terms\n",
    "\n",
    "formula_terms = get_formula_terms(var[0])\n",
    "\n",
    "formula_terms"
   ]
  },
  {
   "cell_type": "code",
   "execution_count": 4,
   "metadata": {
    "collapsed": false
   },
   "outputs": [
    {
     "data": {
      "text/plain": [
       "OrderedDict([(u'sigma', (u'sigma',)),\n",
       "             (u'eta', (u'time', u'ypos', u'xpos')),\n",
       "             (u'depth', (u'ypos', u'xpos'))])"
      ]
     },
     "execution_count": 4,
     "metadata": {},
     "output_type": "execute_result"
    }
   ],
   "source": [
    "from odvc import get_formula_terms_dims\n",
    "\n",
    "\n",
    "dims = get_formula_terms_dims(nc, formula_terms)\n",
    "\n",
    "dims"
   ]
  },
  {
   "cell_type": "code",
   "execution_count": 5,
   "metadata": {
    "collapsed": false
   },
   "outputs": [
    {
     "data": {
      "text/plain": [
       "(288, 11, 22, 124)"
      ]
     },
     "execution_count": 5,
     "metadata": {},
     "output_type": "execute_result"
    }
   ],
   "source": [
    "from odvc import z_shape\n",
    "\n",
    "new_shape = z_shape(nc, dims)\n",
    "\n",
    "new_shape"
   ]
  },
  {
   "cell_type": "code",
   "execution_count": 6,
   "metadata": {
    "collapsed": false
   },
   "outputs": [
    {
     "data": {
      "text/plain": [
       "{u'depth': dask.array<getitem..., shape=(1, 1, 22, 124), dtype=float32, chunksize=(1, 1, 22, 124)>,\n",
       " u'eta': dask.array<getitem..., shape=(288, 1, 22, 124), dtype=int16, chunksize=(1, 1, 22, 124)>,\n",
       " u'sigma': dask.array<getitem..., shape=(1, 11, 1, 1), dtype=float32, chunksize=(1, 11, 1, 1)>}"
      ]
     },
     "execution_count": 6,
     "metadata": {},
     "output_type": "execute_result"
    }
   ],
   "source": [
    "from odvc import prepare_arrays\n",
    "\n",
    "\n",
    "arrays = prepare_arrays(nc, formula_terms, new_shape)\n",
    "\n",
    "arrays"
   ]
  },
  {
   "cell_type": "code",
   "execution_count": 7,
   "metadata": {
    "collapsed": false
   },
   "outputs": [
    {
     "data": {
      "text/plain": [
       "[(u'depth', (1, 1, 22, 124)),\n",
       " (u'eta', (288, 1, 22, 124)),\n",
       " (u'sigma', (1, 11, 1, 1))]"
      ]
     },
     "execution_count": 7,
     "metadata": {},
     "output_type": "execute_result"
    }
   ],
   "source": [
    "[(var, arr.shape) for var, arr in arrays.items()]"
   ]
  },
  {
   "cell_type": "code",
   "execution_count": 8,
   "metadata": {
    "collapsed": false
   },
   "outputs": [
    {
     "name": "stdout",
     "output_type": "stream",
     "text": [
      "(288, 11, 22, 124)\n"
     ]
    }
   ],
   "source": [
    " from odvc import ocean_sigma_coordinate\n",
    "\n",
    "z = ocean_sigma_coordinate(arrays['sigma'],\n",
    "                           arrays['eta'],\n",
    "                           arrays['depth'])\n",
    "\n",
    "print(z.shape)"
   ]
  },
  {
   "cell_type": "code",
   "execution_count": 9,
   "metadata": {
    "collapsed": false
   },
   "outputs": [],
   "source": [
    "salt = nc.get_variables_by_attributes(standard_name='sea_water_salinity')[0]\n",
    "temp = nc.get_variables_by_attributes(standard_name='sea_water_temperature')[0]\n",
    "\n",
    "s = salt[-1, :, 0, 0]\n",
    "t = temp[-1, :, 0, 0]\n",
    "p = z[-1, :, 0, 0]"
   ]
  },
  {
   "cell_type": "code",
   "execution_count": 10,
   "metadata": {
    "collapsed": false
   },
   "outputs": [
    {
     "data": {
      "image/png": "[encoded data removed]",
      "text/plain": [
       "<matplotlib.figure.Figure at 0x7f0f21d69790>"
      ]
     },
     "metadata": {},
     "output_type": "display_data"
    }
   ],
   "source": [
    "%matplotlib inline\n",
    "\n",
    "import matplotlib.pyplot as plt\n",
    "import mpl_toolkits.axisartist as AA\n",
    "from mpl_toolkits.axes_grid1 import host_subplot\n",
    "\n",
    "import seaborn\n",
    "seaborn.set(style='ticks')\n",
    "\n",
    "\n",
    "def adjust_xlim(ax, offset):\n",
    "    x1, x2 = ax.get_xlim()\n",
    "    ax.set_xlim(x1 - offset, x2 + offset)\n",
    "\n",
    "\n",
    "fig = plt.figure(figsize=(6, 9))\n",
    "fig.subplots_adjust(bottom=0.1, top=0.85)\n",
    "ax0 = host_subplot(111, axes_class=AA.Axes)\n",
    "\n",
    "ax0.invert_yaxis()\n",
    "ax1 = ax0.twiny()\n",
    "\n",
    "new_axis0 = ax0.get_grid_helper().new_fixed_axis\n",
    "new_axis1 = ax1.get_grid_helper().new_fixed_axis\n",
    "\n",
    "ax0.axis[\"top\"] = new_axis0(loc=\"top\", axes=ax0, offset=(0, 0))\n",
    "ax1.axis[\"top\"] = new_axis1(loc=\"top\", axes=ax1, offset=(0, 40))\n",
    "\n",
    "ax0.axis[\"bottom\"].toggle(all=False)\n",
    "ax1.axis[\"bottom\"].toggle(all=False)\n",
    "\n",
    "ax0.set_ylabel(\"Depth (m)\")\n",
    "ax0.set_xlabel(u\"Temperature (\\xb0C)\")\n",
    "ax1.set_xlabel(r\"Salinity (g kg$^{-1}$)\")\n",
    "\n",
    "kw = dict(linewidth=2.5)\n",
    "l0, = ax0.plot(t, -p, **kw)\n",
    "l1, = ax1.plot(s, -p, **kw)\n",
    "\n",
    "adjust_xlim(ax0, offset=0.05)\n",
    "adjust_xlim(ax1, offset=0.05)\n",
    "\n",
    "ax0.axis[\"top\"].label.set_color(l0.get_color())\n",
    "ax1.axis[\"top\"].label.set_color(l1.get_color())"
   ]
  }
 ],
 "metadata": {
  "kernelspec": {
   "display_name": "Python 2",
   "language": "python",
   "name": "python2"
  },
  "language_info": {
   "codemirror_mode": {
    "name": "ipython",
    "version": 2
   },
   "file_extension": ".py",
   "mimetype": "text/x-python",
   "name": "python",
   "nbconvert_exporter": "python",
   "pygments_lexer": "ipython2",
   "version": "2.7.8"
  }
 },
 "nbformat": 4,
 "nbformat_minor": 0
}
