{
 "cells": [
  {
   "cell_type": "code",
   "execution_count": 1,
   "metadata": {
    "collapsed": false
   },
   "outputs": [],
   "source": [
    "url = (\"http://www.smast.umassd.edu:8080/thredds/dodsC/FVCOM/NECOFS/\"\n",
    "       \"Forecasts/NECOFS_GOM3_FORECAST.nc\")"
   ]
  },
  {
   "cell_type": "code",
   "execution_count": 2,
   "metadata": {
    "collapsed": false
   },
   "outputs": [
    {
     "data": {
      "text/plain": [
       "[<type 'netCDF4._netCDF4.Variable'>\n",
       " float32 siglay(siglay, node)\n",
       "     long_name: Sigma Layers\n",
       "     standard_name: ocean_sigma_coordinate\n",
       "     positive: up\n",
       "     valid_min: -1.0\n",
       "     valid_max: 0.0\n",
       "     formula_terms: sigma: siglay eta: zeta depth: h\n",
       " unlimited dimensions: \n",
       " current shape = (40, 53087)\n",
       " filling off]"
      ]
     },
     "execution_count": 2,
     "metadata": {},
     "output_type": "execute_result"
    }
   ],
   "source": [
    "from netCDF4 import Dataset\n",
    "\n",
    "from odvc import get_formula_terms_variables\n",
    "\n",
    "\n",
    "nc = Dataset(url)\n",
    "\n",
    "var = get_formula_terms_variables(nc)\n",
    "\n",
    "var"
   ]
  },
  {
   "cell_type": "code",
   "execution_count": 3,
   "metadata": {
    "collapsed": false
   },
   "outputs": [
    {
     "data": {
      "text/plain": [
       "OrderedDict([(u'sigma', u'siglay'), (u'eta', u'zeta'), (u'depth', u'h')])"
      ]
     },
     "execution_count": 3,
     "metadata": {},
     "output_type": "execute_result"
    }
   ],
   "source": [
    "from odvc import get_formula_terms\n",
    "\n",
    "formula_terms = get_formula_terms(var[0])\n",
    "\n",
    "formula_terms"
   ]
  },
  {
   "cell_type": "code",
   "execution_count": 4,
   "metadata": {
    "collapsed": false
   },
   "outputs": [
    {
     "data": {
      "text/plain": [
       "OrderedDict([(u'sigma', (u'siglay', u'node')),\n",
       "             (u'eta', (u'time', u'node')),\n",
       "             (u'depth', (u'node',))])"
      ]
     },
     "execution_count": 4,
     "metadata": {},
     "output_type": "execute_result"
    }
   ],
   "source": [
    "from odvc import get_formula_terms_dims\n",
    "\n",
    "\n",
    "dims = get_formula_terms_dims(nc, formula_terms)\n",
    "\n",
    "dims"
   ]
  },
  {
   "cell_type": "code",
   "execution_count": 5,
   "metadata": {
    "collapsed": false
   },
   "outputs": [
    {
     "data": {
      "text/plain": [
       "(145, 40, 53087)"
      ]
     },
     "execution_count": 5,
     "metadata": {},
     "output_type": "execute_result"
    }
   ],
   "source": [
    "from odvc import z_shape\n",
    "\n",
    "new_shape = z_shape(nc, dims)\n",
    "\n",
    "new_shape"
   ]
  },
  {
   "cell_type": "code",
   "execution_count": 6,
   "metadata": {
    "collapsed": false
   },
   "outputs": [
    {
     "data": {
      "text/plain": [
       "{u'depth': dask.array<getitem..., shape=(1, 1, 53087), dtype=float32, chunksize=(1, 1, 53087)>,\n",
       " u'eta': dask.array<getitem..., shape=(145, 1, 53087), dtype=float32, chunksize=(1, 1, 53087)>,\n",
       " u'sigma': dask.array<getitem..., shape=(1, 40, 53087), dtype=float32, chunksize=(1, 40, 53087)>}"
      ]
     },
     "execution_count": 6,
     "metadata": {},
     "output_type": "execute_result"
    }
   ],
   "source": [
    "from odvc import prepare_arrays\n",
    "\n",
    "arrays = prepare_arrays(nc, formula_terms, new_shape)\n",
    "\n",
    "arrays"
   ]
  },
  {
   "cell_type": "code",
   "execution_count": 7,
   "metadata": {
    "collapsed": false
   },
   "outputs": [
    {
     "name": "stdout",
     "output_type": "stream",
     "text": [
      "(145, 40, 53087)\n"
     ]
    }
   ],
   "source": [
    "from odvc import ocean_sigma_coordinate\n",
    "\n",
    "\n",
    "z = ocean_sigma_coordinate(arrays['sigma'],\n",
    "                           arrays['eta'],\n",
    "                           arrays['depth'])\n",
    "print(z.shape)"
   ]
  },
  {
   "cell_type": "code",
   "execution_count": 8,
   "metadata": {
    "collapsed": false
   },
   "outputs": [],
   "source": [
    "salt = nc.get_variables_by_attributes(standard_name='sea_water_salinity')[0]\n",
    "temp = nc.get_variables_by_attributes(standard_name='sea_water_potential_temperature')[0]\n",
    "\n",
    "s = salt[-1, :, 175]\n",
    "t = temp[-1, :, 175]\n",
    "p = z[-1, :, 175]"
   ]
  },
  {
   "cell_type": "code",
   "execution_count": 9,
   "metadata": {
    "collapsed": false
   },
   "outputs": [
    {
     "data": {
      "image/png": "[encoded data removed]",
      "text/plain": [
       "<matplotlib.figure.Figure at 0x7f34abd09750>"
      ]
     },
     "metadata": {},
     "output_type": "display_data"
    }
   ],
   "source": [
    "%matplotlib inline\n",
    "\n",
    "import matplotlib.pyplot as plt\n",
    "import mpl_toolkits.axisartist as AA\n",
    "from mpl_toolkits.axes_grid1 import host_subplot\n",
    "\n",
    "import seaborn\n",
    "seaborn.set(style='ticks')\n",
    "\n",
    "\n",
    "def adjust_xlim(ax, offset):\n",
    "    x1, x2 = ax.get_xlim()\n",
    "    ax.set_xlim(x1 - offset, x2 + offset)\n",
    "\n",
    "\n",
    "fig = plt.figure(figsize=(6, 9))\n",
    "fig.subplots_adjust(bottom=0.1, top=0.85)\n",
    "ax0 = host_subplot(111, axes_class=AA.Axes)\n",
    "\n",
    "ax0.invert_yaxis()\n",
    "ax1 = ax0.twiny()\n",
    "\n",
    "new_axis0 = ax0.get_grid_helper().new_fixed_axis\n",
    "new_axis1 = ax1.get_grid_helper().new_fixed_axis\n",
    "\n",
    "ax0.axis[\"top\"] = new_axis0(loc=\"top\", axes=ax0, offset=(0, 0))\n",
    "ax1.axis[\"top\"] = new_axis1(loc=\"top\", axes=ax1, offset=(0, 40))\n",
    "\n",
    "ax0.axis[\"bottom\"].toggle(all=False)\n",
    "ax1.axis[\"bottom\"].toggle(all=False)\n",
    "\n",
    "ax0.set_ylabel(\"Depth (m)\")\n",
    "ax0.set_xlabel(u\"Temperature (\\xb0C)\")\n",
    "ax1.set_xlabel(r\"Salinity (g kg$^{-1}$)\")\n",
    "\n",
    "kw = dict(linewidth=2.5)\n",
    "l0, = ax0.plot(t, -p, **kw)\n",
    "l1, = ax1.plot(s, -p, **kw)\n",
    "\n",
    "adjust_xlim(ax0, offset=0.05)\n",
    "adjust_xlim(ax1, offset=0.05)\n",
    "\n",
    "ax0.axis[\"top\"].label.set_color(l0.get_color())\n",
    "ax1.axis[\"top\"].label.set_color(l1.get_color())"
   ]
  }
 ],
 "metadata": {
  "kernelspec": {
   "display_name": "Python 2",
   "language": "python",
   "name": "python2"
  },
  "language_info": {
   "codemirror_mode": {
    "name": "ipython",
    "version": 2
   },
   "file_extension": ".py",
   "mimetype": "text/x-python",
   "name": "python",
   "nbconvert_exporter": "python",
   "pygments_lexer": "ipython2",
   "version": "2.7.8"
  }
 },
 "nbformat": 4,
 "nbformat_minor": 0
}
